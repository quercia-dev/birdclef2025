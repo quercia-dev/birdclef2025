{
 "cells": [
  {
   "cell_type": "markdown",
   "metadata": {},
   "source": [
    "# Data Preprocessing\n",
    "\n",
    "- resampling & normalization\n",
    "- data augmentation (noise addition, pitch shift, time stretching)"
   ]
  },
  {
   "cell_type": "code",
   "execution_count": 56,
   "metadata": {},
   "outputs": [],
   "source": [
    "from utility_data import *"
   ]
  },
  {
   "cell_type": "code",
   "execution_count": 57,
   "metadata": {},
   "outputs": [],
   "source": [
    "audio_params = {'sample_rate': 32000, 'n_fft': 1024, 'hop_length': 501, 'n_mfcc': 128, 'n_mels': 128, 'feature_size': 2048}\n",
    "\n",
    "dataset = AudioDataset(\n",
    "    datafolder=\"data\",\n",
    "    metadata_csv=\"train.csv\",\n",
    "    audio_dir=\"train_audio\",\n",
    "    feature_mode='mel',\n",
    "    audio_params=audio_params,\n",
    "    metadata=True\n",
    ")"
   ]
  },
  {
   "cell_type": "markdown",
   "metadata": {},
   "source": [
    "AudioDataset can produce a new dataset '.csv' and '/train' with the correct, preprocessed data, which can be reused by loading the data directly to the gpu, without reprocessing every time, which is a major bottleneck to training."
   ]
  },
  {
   "cell_type": "code",
   "execution_count": null,
   "metadata": {},
   "outputs": [],
   "source": [
    "# adjust as fit, to export more data\n",
    "# note that the new files will have the same size\n",
    "# as the original data.\n",
    "dataset.data = dataset.data.head(1000)\n",
    "dataset.preprocess(output='train_proc')"
   ]
  },
  {
   "cell_type": "code",
   "execution_count": null,
   "metadata": {},
   "outputs": [],
   "source": [
    "audio_params = {'sample_rate': 32000, 'n_fft': 1024, 'hop_length': 501, 'n_mfcc': 128, 'n_mels': 128, 'feature_size': 2048}\n",
    "\n",
    "dataset = AudioDataset(\n",
    "    datafolder=\"data\",\n",
    "    metadata_csv=\"train_proc.csv\",\n",
    "    audio_dir=\"train_proc\",\n",
    "    feature_mode='mel',\n",
    "    audio_params=audio_params,\n",
    "    metadata=False\n",
    ")\n"
   ]
  },
  {
   "cell_type": "code",
   "execution_count": null,
   "metadata": {},
   "outputs": [],
   "source": [
    "# quantifying the loss of cutting <2.5 sec leftover audios\n",
    "# in the process of forming the recording 5 sec clips\n",
    "(dataset.data['duration'] % 5).hist(bins=200)"
   ]
  }
 ],
 "metadata": {
  "kernelspec": {
   "display_name": "birdclef",
   "language": "python",
   "name": "birdclef"
  },
  "language_info": {
   "codemirror_mode": {
    "name": "ipython",
    "version": 3
   },
   "file_extension": ".py",
   "mimetype": "text/x-python",
   "name": "python",
   "nbconvert_exporter": "python",
   "pygments_lexer": "ipython3",
   "version": "3.13.2"
  }
 },
 "nbformat": 4,
 "nbformat_minor": 2
}
